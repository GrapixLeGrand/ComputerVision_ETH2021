{
 "cells": [
  {
   "cell_type": "code",
   "execution_count": 1,
   "id": "2bbcc3d9",
   "metadata": {},
   "outputs": [],
   "source": [
    "import numpy as np"
   ]
  },
  {
   "cell_type": "markdown",
   "id": "bba63f47",
   "metadata": {},
   "source": [
    "## **Arrays creation and shape**"
   ]
  },
  {
   "cell_type": "code",
   "execution_count": 20,
   "id": "e673db3a",
   "metadata": {},
   "outputs": [
    {
     "name": "stdout",
     "output_type": "stream",
     "text": [
      "[ 0  1  2  3  4  5  6  7  8  9 10 11]\n",
      "[[ 0  1  2  3]\n",
      " [ 4  5  6  7]\n",
      " [ 8  9 10 11]]\n",
      "[[[ 0  1]\n",
      "  [ 2  3]\n",
      "  [ 4  5]\n",
      "  [ 6  7]]\n",
      "\n",
      " [[ 8  9]\n",
      "  [10 11]\n",
      "  [12 13]\n",
      "  [14 15]]\n",
      "\n",
      " [[16 17]\n",
      "  [18 19]\n",
      "  [20 21]\n",
      "  [22 23]]]\n"
     ]
    }
   ],
   "source": [
    "a = np.arange(3 * 4) #[ 0  1  2  3  4  5  6  7  8  9 10 11]\n",
    "b = np.arange(3 * 4).reshape((3, 4))\n",
    "c = np.arange(3 * 4 * 2).reshape((3, 4, 2))\n",
    "\n",
    "print(a)\n",
    "print(b)\n",
    "print(c)"
   ]
  },
  {
   "cell_type": "markdown",
   "id": "6d00dabe",
   "metadata": {},
   "source": [
    "## **Indexing**"
   ]
  },
  {
   "cell_type": "code",
   "execution_count": 21,
   "id": "1aa2d4fb",
   "metadata": {},
   "outputs": [
    {
     "name": "stdout",
     "output_type": "stream",
     "text": [
      "[[99 99 99 99]\n",
      " [ 4  5  6  7]\n",
      " [ 8  9 10 11]]\n",
      "[[ 99 104  99  99]\n",
      " [  4 104   6   7]\n",
      " [  8 104  10  11]]\n"
     ]
    }
   ],
   "source": [
    "a = np.arange(3 * 4).reshape((3, 4))\n",
    "\n",
    "a[0, :] = 99 # will set all elements of first row (axis=0) to 99\n",
    "print(a)\n",
    "a[:, 1] = 104 # will set all elements of second column (axis=1) to 104 \n",
    "print(a)"
   ]
  },
  {
   "cell_type": "markdown",
   "id": "c7f0ed80",
   "metadata": {},
   "source": [
    "### Numpy is row major\n",
    "We access the row as first element and then each column"
   ]
  },
  {
   "cell_type": "code",
   "execution_count": 49,
   "id": "667d6b5a",
   "metadata": {},
   "outputs": [
    {
     "name": "stdout",
     "output_type": "stream",
     "text": [
      "[[ 0  1  2  3]\n",
      " [ 4  5  6  7]\n",
      " [ 8  9 10 11]]\n",
      "first row =  [0 1 2 3]\n",
      "last row  =  [ 8  9 10 11]\n",
      "second column =  [1 5 9]\n"
     ]
    }
   ],
   "source": [
    "a = np.arange(3 * 4).reshape((3, 4))\n",
    "\n",
    "print(a)\n",
    "print(\"first row = \", a[0])\n",
    "print(\"last row  = \", a[2])\n",
    "print(\"second column = \", a[:, 1])\n"
   ]
  },
  {
   "cell_type": "markdown",
   "id": "4ce6e70c",
   "metadata": {},
   "source": [
    "## **Vector operations**"
   ]
  },
  {
   "cell_type": "markdown",
   "id": "ba31480c",
   "metadata": {},
   "source": [
    "### Matrix multiplication"
   ]
  },
  {
   "cell_type": "code",
   "execution_count": 19,
   "id": "0df5a18a",
   "metadata": {},
   "outputs": [
    {
     "name": "stdout",
     "output_type": "stream",
     "text": [
      "[[ 0  1  2  3]\n",
      " [ 4  5  6  7]\n",
      " [ 8  9 10 11]]\n",
      "[[ 0  1  2  3  4]\n",
      " [ 5  6  7  8  9]\n",
      " [10 11 12 13 14]\n",
      " [15 16 17 18 19]]\n",
      "[[ 70  76  82  88  94]\n",
      " [190 212 234 256 278]\n",
      " [310 348 386 424 462]]\n",
      "(3, 4)  x  (4, 5)  =  (3, 5)\n"
     ]
    }
   ],
   "source": [
    "a = np.arange(3 * 4).reshape((3, 4))\n",
    "b = np.arange(4 * 5).reshape((4, 5)) #4 == 4 requiered\n",
    "c = a @ b\n",
    "\n",
    "print(a)\n",
    "print(b)\n",
    "print(c)\n",
    "print(a.shape, \" x \", b.shape, \" = \", c.shape)"
   ]
  },
  {
   "cell_type": "code",
   "execution_count": 24,
   "id": "c3bded30",
   "metadata": {},
   "outputs": [
    {
     "name": "stdout",
     "output_type": "stream",
     "text": [
      "[[ 0  1  2  3]\n",
      " [ 4  5  6  7]\n",
      " [ 8  9 10 11]]\n",
      "[[0]\n",
      " [1]\n",
      " [2]\n",
      " [3]]\n",
      "[[14]\n",
      " [38]\n",
      " [62]]\n",
      "(3, 4)  x  (4, 1)  =  (3, 1)\n"
     ]
    }
   ],
   "source": [
    "a = np.arange(3 * 4).reshape((3, 4))\n",
    "b = np.arange(4 * 1).reshape((4, 1)) #must have shape [[], [], []] !\n",
    "\n",
    "c = a @ b\n",
    "d = a.dot\n",
    "\n",
    "print(a)\n",
    "print(b)\n",
    "print(c)\n",
    "\n",
    "print(a.shape, \" x \", b.shape, \" = \", c.shape)"
   ]
  },
  {
   "cell_type": "markdown",
   "id": "0e23bd1b",
   "metadata": {},
   "source": [
    "### Dot product"
   ]
  },
  {
   "cell_type": "code",
   "execution_count": 28,
   "id": "a016a25c",
   "metadata": {},
   "outputs": [
    {
     "name": "stdout",
     "output_type": "stream",
     "text": [
      "[[0]\n",
      " [1]\n",
      " [2]\n",
      " [3]]\n",
      "[[0]\n",
      " [1]\n",
      " [2]\n",
      " [3]]\n",
      "[[14]]\n",
      "[[ True]]\n"
     ]
    }
   ],
   "source": [
    "a = np.arange(4 * 1).reshape((4, 1))\n",
    "b = np.arange(4 * 1).reshape((4, 1))\n",
    "\n",
    "c = a.T @ b\n",
    "d = np.dot(a.T, b)\n",
    "\n",
    "print(a)\n",
    "print(b)\n",
    "print(c)\n",
    "print(c == d)"
   ]
  },
  {
   "cell_type": "markdown",
   "id": "3154a81a",
   "metadata": {},
   "source": [
    "### Euclidean norm"
   ]
  },
  {
   "cell_type": "code",
   "execution_count": 38,
   "id": "775312f2",
   "metadata": {},
   "outputs": [
    {
     "name": "stdout",
     "output_type": "stream",
     "text": [
      "[[2. 2. 2. 2.]\n",
      " [2. 2. 2. 2.]\n",
      " [2. 2. 2. 2.]]\n",
      "[[1.]\n",
      " [1.]\n",
      " [1.]]\n",
      "3.4641016151377544\n",
      "[3.46410162 3.46410162 3.46410162 3.46410162]\n",
      "[4. 4. 4.]\n"
     ]
    }
   ],
   "source": [
    "a = np.ones((3, 4)) * 2 #seen as 4 3-D vectors (convention?) or 3 4-D vectors\n",
    "b = np.ones((3, 1))\n",
    "c = np.linalg.norm(a - b) #norm a as a flattened array\n",
    "d = np.linalg.norm(a, axis=0) #norm as 4 3-D arrays\n",
    "e = np.linalg.norm(a, axis=1) #norm as 3 4-D arrays\n",
    "\n",
    "print(a)\n",
    "print(b)\n",
    "print(c)\n",
    "print(d)\n",
    "print(e)"
   ]
  },
  {
   "cell_type": "markdown",
   "id": "682408df",
   "metadata": {},
   "source": [
    "### Euclidean norm of vector with vectors (matrix column major)"
   ]
  },
  {
   "cell_type": "code",
   "execution_count": 42,
   "id": "a5f18af5",
   "metadata": {},
   "outputs": [
    {
     "name": "stdout",
     "output_type": "stream",
     "text": [
      "[[ 0  1  2  3]\n",
      " [ 4  5  6  7]\n",
      " [ 8  9 10 11]]\n",
      "[[1]\n",
      " [5]\n",
      " [9]]\n",
      "[1.73205081 0.         1.73205081 3.46410162]\n"
     ]
    }
   ],
   "source": [
    "# 3D vectors along columns\n",
    "a = np.arange(3 * 4).reshape((3, 4))\n",
    "b = a[:, 1].reshape((3, 1)) #b is the second vector of a\n",
    "c = np.linalg.norm(a - b, axis=0)\n",
    "\n",
    "print(a)\n",
    "print(b)\n",
    "print(c)"
   ]
  },
  {
   "cell_type": "markdown",
   "id": "ec00fd81",
   "metadata": {},
   "source": [
    "### Euclidean norm of vector with vectors (matrix row major)"
   ]
  },
  {
   "cell_type": "code",
   "execution_count": 47,
   "id": "0a8615da",
   "metadata": {},
   "outputs": [
    {
     "name": "stdout",
     "output_type": "stream",
     "text": [
      "[[ 0  4  8]\n",
      " [ 1  5  9]\n",
      " [ 2  6 10]\n",
      " [ 3  7 11]]\n",
      "[[1 5 9]]\n",
      "[1.73205081 0.         1.73205081 3.46410162]\n"
     ]
    }
   ],
   "source": [
    "# 3D vectors along rows\n",
    "a = np.arange(3 * 4).reshape((3, 4)) # vector as columns\n",
    "a = a.T # vectors as rows (np.arange(4 * 3).reshape((4, 3)))\n",
    "b = a[1, :].reshape((1, 3)) #mind that we flipped the vector as a row otherwise need to transpose\n",
    "c = np.linalg.norm(a - b, axis=1)\n",
    "\n",
    "print(a)\n",
    "print(b)\n",
    "print(c)"
   ]
  },
  {
   "cell_type": "code",
   "execution_count": null,
   "id": "ccd2488d",
   "metadata": {},
   "outputs": [],
   "source": []
  }
 ],
 "metadata": {
  "kernelspec": {
   "display_name": "Python 3 (ipykernel)",
   "language": "python",
   "name": "python3"
  },
  "language_info": {
   "codemirror_mode": {
    "name": "ipython",
    "version": 3
   },
   "file_extension": ".py",
   "mimetype": "text/x-python",
   "name": "python",
   "nbconvert_exporter": "python",
   "pygments_lexer": "ipython3",
   "version": "3.8.5"
  }
 },
 "nbformat": 4,
 "nbformat_minor": 5
}
